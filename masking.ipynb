{
 "cells": [
  {
   "cell_type": "code",
   "execution_count": 2,
   "id": "855acc1b",
   "metadata": {},
   "outputs": [],
   "source": [
    "import numpy as np\n",
    "import numpy.ma as ma"
   ]
  },
  {
   "cell_type": "code",
   "execution_count": 3,
   "id": "fde363d1",
   "metadata": {},
   "outputs": [],
   "source": [
    "array=np.array([1,2,3,4,10,-19,-13])"
   ]
  },
  {
   "cell_type": "code",
   "execution_count": 5,
   "id": "209ff4a1",
   "metadata": {},
   "outputs": [
    {
     "data": {
      "text/plain": [
       "array([  1,   2,   3,   4,  10, -19, -13])"
      ]
     },
     "execution_count": 5,
     "metadata": {},
     "output_type": "execute_result"
    }
   ],
   "source": [
    "array.view()"
   ]
  },
  {
   "cell_type": "code",
   "execution_count": 8,
   "id": "6eb4a199",
   "metadata": {},
   "outputs": [],
   "source": [
    "mx = ma.masked_array(array, mask=[0, 0, 0, 0, 0,1,1])"
   ]
  },
  {
   "cell_type": "code",
   "execution_count": 9,
   "id": "4da86854",
   "metadata": {},
   "outputs": [
    {
     "data": {
      "text/plain": [
       "masked_array(data=[1, 2, 3, 4, 10, --, --],\n",
       "             mask=[False, False, False, False, False,  True,  True],\n",
       "       fill_value=999999)"
      ]
     },
     "execution_count": 9,
     "metadata": {},
     "output_type": "execute_result"
    }
   ],
   "source": [
    "mx"
   ]
  },
  {
   "cell_type": "code",
   "execution_count": 10,
   "id": "6152510c",
   "metadata": {},
   "outputs": [
    {
     "data": {
      "text/plain": [
       "4.0"
      ]
     },
     "execution_count": 10,
     "metadata": {},
     "output_type": "execute_result"
    }
   ],
   "source": [
    "mx.mean()"
   ]
  },
  {
   "cell_type": "markdown",
   "id": "e384d9ae",
   "metadata": {},
   "source": [
    "\n",
    "To create an array with the second element invalid, we would do:"
   ]
  },
  {
   "cell_type": "code",
   "execution_count": 13,
   "id": "685f7133",
   "metadata": {},
   "outputs": [],
   "source": [
    "x = np.array([1, 2, 3])"
   ]
  },
  {
   "cell_type": "code",
   "execution_count": 15,
   "id": "9f266a65",
   "metadata": {},
   "outputs": [
    {
     "data": {
      "text/plain": [
       "masked_array(data=[1, 2, 3],\n",
       "             mask=False,\n",
       "       fill_value=999999)"
      ]
     },
     "execution_count": 15,
     "metadata": {},
     "output_type": "execute_result"
    }
   ],
   "source": [
    "x.view(ma.MaskedArray)\n",
    "#create view for mask array"
   ]
  },
  {
   "cell_type": "code",
   "execution_count": 16,
   "id": "a4a23470",
   "metadata": {},
   "outputs": [],
   "source": [
    "x = [0.,1.,-9999.,3.,4.]"
   ]
  },
  {
   "cell_type": "code",
   "execution_count": 27,
   "id": "4df389c1",
   "metadata": {},
   "outputs": [],
   "source": [
    "yx = ma.masked_values (x, -9999.)"
   ]
  },
  {
   "cell_type": "code",
   "execution_count": 28,
   "id": "ad6c1dd8",
   "metadata": {},
   "outputs": [
    {
     "data": {
      "text/plain": [
       "masked_array(data=[0.0, 1.0, --, 3.0, 4.0],\n",
       "             mask=[False, False,  True, False, False],\n",
       "       fill_value=-9999.0)"
      ]
     },
     "execution_count": 28,
     "metadata": {},
     "output_type": "execute_result"
    }
   ],
   "source": [
    "yx"
   ]
  },
  {
   "cell_type": "code",
   "execution_count": 29,
   "id": "1c4cb200",
   "metadata": {},
   "outputs": [
    {
     "data": {
      "text/plain": [
       "2.0"
      ]
     },
     "execution_count": 29,
     "metadata": {},
     "output_type": "execute_result"
    }
   ],
   "source": [
    "yx.mean()"
   ]
  },
  {
   "cell_type": "code",
   "execution_count": 30,
   "id": "6a1486f7",
   "metadata": {},
   "outputs": [
    {
     "name": "stdout",
     "output_type": "stream",
     "text": [
      "[2. 2. 2. 2. 2.]\n"
     ]
    }
   ],
   "source": [
    "# # mx.filled(mx.mean())\n",
    "print(mx.filled(yx.mean()))"
   ]
  },
  {
   "cell_type": "code",
   "execution_count": 32,
   "id": "9b370716",
   "metadata": {},
   "outputs": [
    {
     "name": "stdout",
     "output_type": "stream",
     "text": [
      "[-2.0 -1.0 -- 1.0 2.0]\n"
     ]
    }
   ],
   "source": [
    "print(yx - yx.mean())"
   ]
  },
  {
   "cell_type": "code",
   "execution_count": null,
   "id": "f928f85a",
   "metadata": {},
   "outputs": [],
   "source": []
  }
 ],
 "metadata": {
  "kernelspec": {
   "display_name": "Python 3 (ipykernel)",
   "language": "python",
   "name": "python3"
  },
  "language_info": {
   "codemirror_mode": {
    "name": "ipython",
    "version": 3
   },
   "file_extension": ".py",
   "mimetype": "text/x-python",
   "name": "python",
   "nbconvert_exporter": "python",
   "pygments_lexer": "ipython3",
   "version": "3.9.12"
  }
 },
 "nbformat": 4,
 "nbformat_minor": 5
}
